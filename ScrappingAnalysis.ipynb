{
 "cells": [
  {
   "cell_type": "markdown",
   "metadata": {},
   "source": [
    "### IMPORTING LIBS"
   ]
  },
  {
   "cell_type": "code",
   "execution_count": 1,
   "metadata": {},
   "outputs": [],
   "source": [
    "import pandas as pd, matplotlib.pyplot as plt,praw, numpy as np, seaborn as sns\n",
    "import plotly.graph_objects as go"
   ]
  },
  {
   "cell_type": "markdown",
   "metadata": {},
   "source": [
    "### Reading the excel"
   ]
  },
  {
   "cell_type": "code",
   "execution_count": 2,
   "metadata": {},
   "outputs": [],
   "source": [
    "archv = \"C:\\\\Users\\\\PMPA\\\\Documents\\\\Gustavo\\\\WebScrapping\\\\AllPost_AlignerCo.xlsx\""
   ]
  },
  {
   "cell_type": "markdown",
   "metadata": {},
   "source": [
    "### Cleaning the dataFrame"
   ]
  },
  {
   "cell_type": "code",
   "execution_count": 5,
   "metadata": {},
   "outputs": [],
   "source": [
    "df = pd.read_excel(archv)\n",
    "number_posts_AlignerCo = len(df)"
   ]
  },
  {
   "cell_type": "code",
   "execution_count": 7,
   "metadata": {},
   "outputs": [
    {
     "data": {
      "text/html": [
       "<div>\n",
       "<style scoped>\n",
       "    .dataframe tbody tr th:only-of-type {\n",
       "        vertical-align: middle;\n",
       "    }\n",
       "\n",
       "    .dataframe tbody tr th {\n",
       "        vertical-align: top;\n",
       "    }\n",
       "\n",
       "    .dataframe thead th {\n",
       "        text-align: right;\n",
       "    }\n",
       "</style>\n",
       "<table border=\"1\" class=\"dataframe\">\n",
       "  <thead>\n",
       "    <tr style=\"text-align: right;\">\n",
       "      <th></th>\n",
       "      <th>Title</th>\n",
       "      <th>Autor</th>\n",
       "      <th>Upvotes</th>\n",
       "      <th>URL</th>\n",
       "      <th>Text</th>\n",
       "    </tr>\n",
       "  </thead>\n",
       "  <tbody>\n",
       "    <tr>\n",
       "      <th>0</th>\n",
       "      <td>Try 18/18! Photos before and after</td>\n",
       "      <td>NaN</td>\n",
       "      <td>23</td>\n",
       "      <td>https://www.reddit.com/gallery/n602uc</td>\n",
       "      <td>NaN</td>\n",
       "    </tr>\n",
       "    <tr>\n",
       "      <th>1</th>\n",
       "      <td>AlignerCo Completed Review + Pictures and 100 ...</td>\n",
       "      <td>edemamba</td>\n",
       "      <td>18</td>\n",
       "      <td>http://alignerco.refr.cc/edesemi</td>\n",
       "      <td>NaN</td>\n",
       "    </tr>\n",
       "    <tr>\n",
       "      <th>2</th>\n",
       "      <td>Avoid This Company - Scammers</td>\n",
       "      <td>Shetlandshaun1</td>\n",
       "      <td>18</td>\n",
       "      <td>https://www.reddit.com/r/alignerco/comments/12...</td>\n",
       "      <td>Made the mistake of paying upfront to this com...</td>\n",
       "    </tr>\n",
       "    <tr>\n",
       "      <th>3</th>\n",
       "      <td>Interested in the class action lawsuit against...</td>\n",
       "      <td>RedditQueenK</td>\n",
       "      <td>16</td>\n",
       "      <td>https://www.reddit.com/r/alignerco/comments/16...</td>\n",
       "      <td>I have already filed a civil lawsuit against A...</td>\n",
       "    </tr>\n",
       "    <tr>\n",
       "      <th>4</th>\n",
       "      <td>Tray 13/19 I had serious doubts about this con...</td>\n",
       "      <td>Automatic_Ad8900</td>\n",
       "      <td>13</td>\n",
       "      <td>https://www.reddit.com/gallery/o031ul</td>\n",
       "      <td>NaN</td>\n",
       "    </tr>\n",
       "  </tbody>\n",
       "</table>\n",
       "</div>"
      ],
      "text/plain": [
       "                                               Title             Autor  \\\n",
       "0                 Try 18/18! Photos before and after               NaN   \n",
       "1  AlignerCo Completed Review + Pictures and 100 ...          edemamba   \n",
       "2                      Avoid This Company - Scammers    Shetlandshaun1   \n",
       "3  Interested in the class action lawsuit against...      RedditQueenK   \n",
       "4  Tray 13/19 I had serious doubts about this con...  Automatic_Ad8900   \n",
       "\n",
       "   Upvotes                                                URL  \\\n",
       "0       23              https://www.reddit.com/gallery/n602uc   \n",
       "1       18                   http://alignerco.refr.cc/edesemi   \n",
       "2       18  https://www.reddit.com/r/alignerco/comments/12...   \n",
       "3       16  https://www.reddit.com/r/alignerco/comments/16...   \n",
       "4       13              https://www.reddit.com/gallery/o031ul   \n",
       "\n",
       "                                                Text  \n",
       "0                                                NaN  \n",
       "1                                                NaN  \n",
       "2  Made the mistake of paying upfront to this com...  \n",
       "3  I have already filed a civil lawsuit against A...  \n",
       "4                                                NaN  "
      ]
     },
     "execution_count": 7,
     "metadata": {},
     "output_type": "execute_result"
    }
   ],
   "source": [
    "df.head()"
   ]
  },
  {
   "cell_type": "code",
   "execution_count": 13,
   "metadata": {},
   "outputs": [
    {
     "data": {
      "text/plain": [
       "(74, 5)"
      ]
     },
     "execution_count": 13,
     "metadata": {},
     "output_type": "execute_result"
    }
   ],
   "source": [
    "df.shape"
   ]
  },
  {
   "cell_type": "markdown",
   "metadata": {},
   "source": [
    "possuem 5 colunas = Titulo, autor, upvotes, URL, Text\n",
    "\n",
    "O subreddit possue 74 posts "
   ]
  },
  {
   "cell_type": "code",
   "execution_count": 17,
   "metadata": {},
   "outputs": [
    {
     "name": "stdout",
     "output_type": "stream",
     "text": [
      "Colunas completamente vazias:\n",
      "Index([], dtype='object')\n"
     ]
    }
   ],
   "source": [
    "colunas_vazias = df.columns[df.isnull().all()]\n",
    "\n",
    "print(\"Colunas completamente vazias:\")\n",
    "print(colunas_vazias)"
   ]
  },
  {
   "cell_type": "markdown",
   "metadata": {},
   "source": [
    "não possui colunas vazias"
   ]
  },
  {
   "cell_type": "code",
   "execution_count": null,
   "metadata": {},
   "outputs": [],
   "source": [
    "\n",
    "\n",
    "data = {\n",
    "    'Subreddit': ['AlignerCo'],\n",
    "    'Quantidade de Posts': [number_posts_AlignerCo]\n",
    "}\n",
    "df = pd.DataFrame(data)\n"
   ]
  },
  {
   "cell_type": "code",
   "execution_count": null,
   "metadata": {},
   "outputs": [
    {
     "data": {
      "image/png": "[encoded data removed]",
      "text/plain": [
       "<Figure size 1000x500 with 1 Axes>"
      ]
     },
     "metadata": {},
     "output_type": "display_data"
    }
   ],
   "source": [
    "import matplotlib.pyplot as plt\n",
    "plt.figure(figsize=(10, 5)) \n",
    "plt.bar(df['Subreddit'], df['Quantidade de Posts'], color='green',  width=0.2) \n",
    "plt.title('number of posts per subreddit', fontsize=16) \n",
    "plt.xlabel('Subreddit', fontsize=14)  \n",
    "plt.ylabel('Quantidade de Posts', fontsize=14)  \n",
    "plt.xticks(rotation=0)  \n",
    "plt.tight_layout()  \n",
    "plt.show()"
   ]
  },
  {
   "cell_type": "code",
   "execution_count": null,
   "metadata": {},
   "outputs": [],
   "source": []
  }
 ],
 "metadata": {
  "kernelspec": {
   "display_name": "Python 3",
   "language": "python",
   "name": "python3"
  },
  "language_info": {
   "codemirror_mode": {
    "name": "ipython",
    "version": 3
   },
   "file_extension": ".py",
   "mimetype": "text/x-python",
   "name": "python",
   "nbconvert_exporter": "python",
   "pygments_lexer": "ipython3",
   "version": "3.13.2"
  }
 },
 "nbformat": 4,
 "nbformat_minor": 2
}
